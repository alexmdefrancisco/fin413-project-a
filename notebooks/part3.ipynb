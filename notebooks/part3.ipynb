{
 "cells": [
  {
   "cell_type": "code",
   "execution_count": 1,
   "metadata": {},
   "outputs": [],
   "source": [
    "import numpy as np\n",
    "import pandas as pd\n",
    "from scipy.optimize import minimize"
   ]
  },
  {
   "cell_type": "code",
   "execution_count": null,
   "metadata": {},
   "outputs": [
    {
     "name": "stdout",
     "output_type": "stream",
     "text": [
      "Minimum Variance Portfolio Weights at datePP:\n",
      "[4.26369449e-02 6.29419754e-02 0.00000000e+00 0.00000000e+00\n",
      " 3.47068351e-02 0.00000000e+00 1.55902498e-01 2.25263735e-01\n",
      " 2.05260741e-01 3.69924140e-02 1.69177736e-01 0.00000000e+00\n",
      " 6.71171213e-02 1.64615771e-16]\n",
      "\n",
      "Minimum Variance Portfolio Weights at dateTr:\n",
      "[4.26369451e-02 6.29419755e-02 0.00000000e+00 0.00000000e+00\n",
      " 3.47068354e-02 0.00000000e+00 1.55902499e-01 2.25263734e-01\n",
      " 2.05260740e-01 3.69924138e-02 1.69177735e-01 5.67579837e-17\n",
      " 6.71171221e-02 6.32225392e-17]\n"
     ]
    }
   ],
   "source": [
    "def min_variance_portfolio(cov_matrix):\n",
    "    num_assets = cov_matrix.shape[0]\n",
    "    w0 = np.ones(num_assets) / num_assets\n",
    "\n",
    "    def portfolio_variance(weights):\n",
    "        return weights.T @ cov_matrix @ weights\n",
    "    \n",
    "    constraints = ({\n",
    "        'type': 'eq',\n",
    "        'fun': lambda w: np.sum(w) - 1\n",
    "    })\n",
    "    \n",
    "    bounds = tuple((0, 1) for _ in range(num_assets))\n",
    "    \n",
    "    result = minimize(portfolio_variance, w0, method='SLSQP', bounds=bounds, constraints=constraints)\n",
    "    \n",
    "    if result.success:\n",
    "        return result.x\n",
    "    else:\n",
    "        raise ValueError(\"Optimization did not converge\")\n",
    "\n",
    "weights_pp = min_variance_portfolio(cov_pp)\n",
    "weights_tr = min_variance_portfolio(cov_tr)\n",
    "\n",
    "print(\"Minimum Variance Portfolio Weights at datePP:\")\n",
    "print(weights_pp)\n",
    "\n",
    "print(\"\\nMinimum Variance Portfolio Weights at dateTr:\")\n",
    "print(weights_tr)\n"
   ]
  },
  {
   "cell_type": "code",
   "execution_count": null,
   "metadata": {},
   "outputs": [
    {
     "name": "stdout",
     "output_type": "stream",
     "text": [
      "ERC Portfolio Weights at datePP:\n",
      "[0.04392967 0.05881712 0.03601366 0.04700351 0.05010939 0.03985069\n",
      " 0.16497572 0.13675447 0.13069228 0.04073866 0.09123861 0.02533302\n",
      " 0.1047699  0.02977331]\n",
      "\n",
      "ERC Portfolio Weights at dateTr:\n",
      "[0.04392967 0.05881712 0.03601366 0.04700351 0.05010939 0.03985069\n",
      " 0.16497572 0.13675447 0.13069228 0.04073866 0.09123861 0.02533302\n",
      " 0.1047699  0.02977331]\n"
     ]
    }
   ],
   "source": [
    "def erc_portfolio(cov_matrix):\n",
    "    num_assets = cov_matrix.shape[0]\n",
    "    w0 = np.ones(num_assets) / num_assets\n",
    "\n",
    "    def risk_contribution(weights):\n",
    "        portfolio_variance = weights.T @ cov_matrix @ weights\n",
    "        marginal_contrib = cov_matrix @ weights\n",
    "        risk_contrib = weights * marginal_contrib\n",
    "        return risk_contrib, portfolio_variance\n",
    "\n",
    "    def objective(weights):\n",
    "        rc, _ = risk_contribution(weights)\n",
    "        return np.sum((rc[:, None] - rc[None, :])**2)\n",
    "\n",
    "    constraints = ({'type': 'eq', 'fun': lambda w: np.sum(w) - 1})\n",
    "    bounds = tuple((0, 1) for _ in range(num_assets))\n",
    "\n",
    "    result = minimize(objective, w0, method='SLSQP', bounds=bounds, constraints=constraints)\n",
    "\n",
    "    if result.success:\n",
    "        return result.x\n",
    "    else:\n",
    "        raise ValueError(\"ERC optimization did not converge.\")\n",
    "\n",
    "weights_erc_pp = erc_portfolio(cov_pp)\n",
    "weights_erc_tr = erc_portfolio(cov_tr)\n",
    "\n",
    "print(\"ERC Portfolio Weights at datePP:\")\n",
    "print(weights_erc_pp)\n",
    "\n",
    "print(\"\\nERC Portfolio Weights at dateTr:\")\n",
    "print(weights_erc_tr)"
   ]
  },
  {
   "cell_type": "code",
   "execution_count": null,
   "metadata": {},
   "outputs": [
    {
     "name": "stdout",
     "output_type": "stream",
     "text": [
      "Minimum ENB Portfolio Weights at datePP:\n",
      "[7.10267622e-02 6.91594299e-02 4.97539183e-13 1.56081938e-12\n",
      " 3.41076514e-02 1.31205875e-12 2.27520304e-01 2.38719468e-01\n",
      " 1.78243014e-01 0.00000000e+00 1.62903744e-01 1.60431376e-12\n",
      " 1.83196269e-02 2.40052072e-12]\n",
      "\n",
      "Minimum ENB Portfolio Weights at dateTr:\n",
      "[7.10267622e-02 6.91594299e-02 4.97539183e-13 1.56081938e-12\n",
      " 3.41076514e-02 1.31205875e-12 2.27520304e-01 2.38719468e-01\n",
      " 1.78243014e-01 0.00000000e+00 1.62903744e-01 1.60431376e-12\n",
      " 1.83196269e-02 2.40052072e-12]\n"
     ]
    }
   ],
   "source": [
    "def diversification_entropy(weights, cov_matrix):\n",
    "    eigvals, eigvecs = np.linalg.eigh(cov_matrix)\n",
    "    Gw = np.dot(np.sqrt(np.diag(eigvals)), np.dot(eigvecs.T, weights))\n",
    "    var_contrib = Gw**2\n",
    "    p = var_contrib / np.sum(var_contrib)\n",
    "    p = np.where(p == 0, 1e-10, p)\n",
    "    entropy = -np.sum(p * np.log(p))\n",
    "    Nent = np.exp(entropy)\n",
    "    return -Nent \n",
    "\n",
    "def optimize_min_enb(cov_matrix):\n",
    "    num_assets = cov_matrix.shape[0]\n",
    "    w0 = np.ones(num_assets) / num_assets\n",
    "    \n",
    "    constraints = ({\n",
    "        'type': 'eq',\n",
    "        'fun': lambda w: np.sum(w) - 1\n",
    "    })\n",
    "    \n",
    "    bounds = tuple((0, 1) for _ in range(num_assets))\n",
    "    \n",
    "    result = minimize(diversification_entropy, w0, args=(cov_matrix,),\n",
    "                      method='SLSQP', bounds=bounds, constraints=constraints)\n",
    "    \n",
    "    if result.success:\n",
    "        return result.x\n",
    "    else:\n",
    "        raise ValueError(\"Optimization did not converge.\")\n",
    "\n",
    "weights_enb_pp = optimize_min_enb(cov_pp)\n",
    "weights_enb_tr = optimize_min_enb(cov_tr)\n",
    "\n",
    "print(\"Minimum ENB Portfolio Weights at datePP:\")\n",
    "print(weights_enb_pp)\n",
    "\n",
    "print(\"\\nMinimum ENB Portfolio Weights at dateTr:\")\n",
    "print(weights_enb_tr)"
   ]
  }
 ],
 "metadata": {
  "kernelspec": {
   "display_name": "blockchain",
   "language": "python",
   "name": "python3"
  },
  "language_info": {
   "codemirror_mode": {
    "name": "ipython",
    "version": 3
   },
   "file_extension": ".py",
   "mimetype": "text/x-python",
   "name": "python",
   "nbconvert_exporter": "python",
   "pygments_lexer": "ipython3",
   "version": "3.11.11"
  }
 },
 "nbformat": 4,
 "nbformat_minor": 2
}
