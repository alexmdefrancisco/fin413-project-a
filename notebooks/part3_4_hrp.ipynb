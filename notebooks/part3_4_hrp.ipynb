{
 "cells": [
  {
   "cell_type": "code",
   "execution_count": 1,
   "id": "ba0b3f47",
   "metadata": {},
   "outputs": [],
   "source": [
    "import matplotlib.pyplot as mpl\n",
    "import scipy.cluster.hierarchy as sch,random,numpy as np,pandas as pd\n",
    "from scipy.spatial.distance import squareform\n",
    "import matplotlib.pyplot as plt"
   ]
  },
  {
   "cell_type": "markdown",
   "id": "4a173119",
   "metadata": {},
   "source": [
    "### HRP code from the paper (Lopez de Prada 2016)\n",
    "\n",
    "You can run it with run_hrp_artificial_data() and play with artificially generated data parameters to get intuition about how HRP works.\n",
    "\n",
    "Also contains slightly modified clean_covariance_matrix() from part 2 and function build_hrp which takes in real data."
   ]
  },
  {
   "cell_type": "code",
   "execution_count": null,
   "id": "9eb332ec",
   "metadata": {},
   "outputs": [],
   "source": [
    "def getIVP(cov,**kargs):\n",
    "    # Compute the inverse-variance portfolio\n",
    "    ivp=1./np.diag(cov)\n",
    "    ivp/=ivp.sum()\n",
    "    return ivp\n",
    "\n",
    "\n",
    "def getClusterVar(cov,cItems):\n",
    "    # Compute variance per cluster\n",
    "    cov_=cov.loc[cItems,cItems] # matrix slice\n",
    "    w_=getIVP(cov_).reshape(-1,1)\n",
    "    cVar=np.dot(np.dot(w_.T,cov_),w_)[0,0]\n",
    "    return cVar\n",
    "\n",
    "def getQuasiDiag(link):\n",
    "    # Sort clustered items by distance\n",
    "    link = link.astype(int)\n",
    "    sortIx = pd.Series([link[-1, 0], link[-1, 1]])\n",
    "    numItems = link[-1, 3]  # number of original items\n",
    "    while sortIx.max() >= numItems:\n",
    "        sortIx.index = range(0, sortIx.shape[0] * 2, 2)  # make space\n",
    "        df0 = sortIx[sortIx >= numItems]  # find clusters\n",
    "\n",
    "        i = df0.index\n",
    "        j = df0.values - numItems\n",
    "        sortIx[i] = link[j, 0]  # item 1\n",
    "        df0 = pd.Series(link[j, 1], index=i + 1)\n",
    "        sortIx = pd.concat([sortIx, df0]).sort_index()  # concatenate instead of append\n",
    "        sortIx.index = range(sortIx.shape[0])  # re-index\n",
    "    return sortIx.tolist()\n",
    "\n",
    "def getRecBipart(cov,sortIx):\n",
    "    # Compute HRP alloc\n",
    "    w=pd.Series(1,index=sortIx, dtype=float)\n",
    "    cItems=[sortIx] # initialize all items in one cluster\n",
    "    while len(cItems)>0:\n",
    "        cItems=[elem[j:k] for elem in cItems for j,k in \\\n",
    "                ((0,len(elem)//2), (len(elem)//2,len(elem))) if len(elem)>1] # bi-section\n",
    "        # print(\"humus\", len(cItems), cItems)\n",
    "        for i in range(0,len(cItems),2): # parse in pairs\n",
    "            cItems0=cItems[i] # cluster 1\n",
    "            cItems1=cItems[i+1] # cluster 2\n",
    "            cVar0=getClusterVar(cov,cItems0)\n",
    "            cVar1=getClusterVar(cov,cItems1)\n",
    "            alpha=1-cVar0/(cVar0+cVar1)\n",
    "            w[cItems0]*=alpha # weight 1\n",
    "            w[cItems1]*=1-alpha # weight 2\n",
    "    return w\n",
    "\n",
    "def correlDist(corr):\n",
    "    # A distance matrix based on correlation, where 0<=d[i,j]<=1\n",
    "    # This is a proper distance metric\n",
    "    dist=((1-corr)/2.)**.5 # distance matrix\n",
    "    return dist\n",
    "\n",
    "\n",
    "def plotCorrMatrix(path,corr,labels=None):\n",
    "    # Heatmap of the correlation matrix\n",
    "    if labels is None:labels=[]\n",
    "    mpl.pcolor(corr)\n",
    "    mpl.colorbar()\n",
    "    mpl.yticks(np.arange(.5,corr.shape[0]+.5),labels)\n",
    "    mpl.xticks(np.arange(.5,corr.shape[0]+.5),labels)\n",
    "    mpl.savefig(path)\n",
    "    mpl.clf();mpl.close() # reset pylab\n",
    "    return\n",
    "\n",
    "def generateData(nObs,size0,size1,sigma1):\n",
    "    # Time series of correlated variables\n",
    "    #1) generating some uncorrelated data\n",
    "    np.random.seed(seed=12345);random.seed(12345)\n",
    "    x=np.random.normal(0,1,size=(nObs,size0)) # each row is a variable\n",
    "    #2) creating correlation between the variables\n",
    "    cols=[random.randint(0,size0-1) for i in range(size1)]\n",
    "    y=x[:,cols]+np.random.normal(0,sigma1,size=(nObs,len(cols)))\n",
    "    x=np.append(x,y,axis=1)\n",
    "    x=pd.DataFrame(x,columns=range(1,x.shape[1]+1))\n",
    "    print(x.shape)\n",
    "    return x,cols\n",
    "\n",
    "def run_hrp_artificial_data():\n",
    "    #1) Generate correlated data\n",
    "    nObs,size0,size1,sigma1=250,5,5,.25\n",
    "    x,cols=generateData(nObs,size0,size1,sigma1) # x is of size 10000 by 10 (250 by 14?)\n",
    "    print([(j+1,size0+i) for i,j in enumerate(cols,1)])\n",
    "    \n",
    "    #2) compute and plot correl matrix\n",
    "    cov,corr=x.cov(),x.corr()\n",
    "    # plotCorrMatrix('HRP3_corr0.png',corr,labels=corr.columns)\n",
    "    \n",
    "    # 3) cluster\n",
    "    dist=correlDist(corr)\n",
    "    condensed_dist_matrix = squareform(dist)\n",
    "    link=sch.linkage(condensed_dist_matrix,'single')\n",
    "    fig = plt.figure(figsize=(25, 10))\n",
    "    dn = sch.dendrogram(link)\n",
    "    plt.show()\n",
    "    sortIx=getQuasiDiag(link)\n",
    "    sortIx=corr.index[sortIx].tolist() # recover labels\n",
    "    df0=corr.loc[sortIx,sortIx] # reorder\n",
    "    # plotCorrMatrix('HRP3_corr1.png',df0,labels=df0.columns)\n",
    "    \n",
    "    #4) Capital allocation\n",
    "    hrp=getRecBipart(cov,sortIx)\n",
    "    print(hrp)\n",
    "\n",
    "\n",
    "def clean_covariance_matrix(cov_matrix: pd.DataFrame, clip_threshold=1e-4):\n",
    "    # Eigen decomposition (values and vectors as NumPy arrays)\n",
    "    eigvals, eigvecs = np.linalg.eigh(cov_matrix.values)\n",
    "\n",
    "    # Clip small eigenvalues\n",
    "    eigvals = np.clip(eigvals, clip_threshold, None)\n",
    "\n",
    "    # Reconstruct the cleaned covariance matrix\n",
    "    cleaned_matrix = eigvecs @ np.diag(eigvals) @ eigvecs.T\n",
    "\n",
    "    # Return as a DataFrame with original index/columns\n",
    "    cleaned_df = pd.DataFrame(cleaned_matrix, index=cov_matrix.index, columns=cov_matrix.columns)\n",
    "\n",
    "    return cleaned_df\n",
    "\n",
    "def build_hrp(data, clean_cov_matrix=False):\n",
    "    #1) compute and plot correl matrix\n",
    "    cov,corr=data.cov(),data.corr()\n",
    "\n",
    "    #2) clean covariance matrix (eigen clipping)\n",
    "    if clean_cov_matrix:\n",
    "        cov = clean_covariance_matrix(cov)\n",
    "    # plotCorrMatrix('HRP3_corr0.png',corr,labels=corr.columns)\n",
    "\n",
    "    # 3) cluster\n",
    "    dist=correlDist(corr)\n",
    "    condensed_dist_matrix = squareform(dist) \n",
    "    link=sch.linkage(condensed_dist_matrix,'single')\n",
    "    fig = plt.figure(figsize=(25, 10))\n",
    "    dn = sch.dendrogram(link)\n",
    "    plt.show()\n",
    "    sortIx=getQuasiDiag(link)\n",
    "    sortIx=corr.index[sortIx].tolist() # recover labels\n",
    "    df0=corr.loc[sortIx,sortIx] # reorder\n",
    "    # plotCorrMatrix('HRP3_corr1.png',df0,labels=df0.columns)\n",
    "    \n",
    "    #4) Capital allocation\n",
    "    hrp=getRecBipart(cov,sortIx)\n",
    "    return hrp\n"
   ]
  },
  {
   "cell_type": "code",
   "execution_count": 5,
   "id": "6e65e1ad",
   "metadata": {},
   "outputs": [
    {
     "name": "stdout",
     "output_type": "stream",
     "text": [
      "(250, 10)\n",
      "[(4, 6), (1, 7), (3, 8), (3, 9), (2, 10)]\n"
     ]
    },
    {
     "data": {
      "image/png": "[encoded data removed]",
      "text/plain": [
       "<Figure size 2500x1000 with 1 Axes>"
      ]
     },
     "metadata": {},
     "output_type": "display_data"
    },
    {
     "name": "stdout",
     "output_type": "stream",
     "text": [
      "8     0.071549\n",
      "3     0.075943\n",
      "9     0.132707\n",
      "2     0.062382\n",
      "10    0.060744\n",
      "5     0.188556\n",
      "4     0.140235\n",
      "6     0.122260\n",
      "1     0.074824\n",
      "7     0.070800\n",
      "dtype: float64\n"
     ]
    }
   ],
   "source": [
    "run_hrp_artificial_data()"
   ]
  },
  {
   "cell_type": "markdown",
   "id": "f0432bab",
   "metadata": {},
   "source": [
    "### Load our data\n",
    "Preprocess it as you wish (e.g. excluding weekdays)"
   ]
  },
  {
   "cell_type": "code",
   "execution_count": null,
   "id": "dfb87c36",
   "metadata": {},
   "outputs": [],
   "source": [
    "prices = pd.read_csv('./fin413_data.csv', sep=';')\n",
    "\n",
    "prices['Date'] = pd.to_datetime(prices['Date'], format='%d.%m.%Y')\n",
    "prices.set_index('Date', inplace=True)\n",
    "print(\"All prices\", prices.shape)\n",
    "\n",
    "datePP = '2021-09-11'\n",
    "dateTr = '2022-11-21'\n",
    "\n",
    "weekdays_only = prices[prices.index.weekday < 5]\n",
    "print(\"weekday prices\", weekdays_only.shape)\n",
    "\n",
    "\n",
    "log_returns = np.log(weekdays_only / weekdays_only.shift(1)).dropna()\n",
    "\n",
    "\n",
    "window_size = 250\n",
    "\n",
    "window_pp = log_returns.loc[:datePP].iloc[-window_size:]\n",
    "window_tr = log_returns.loc[:dateTr].iloc[-window_size:]\n",
    "\n",
    "print(\"Window of log returns data\", window_pp.shape)\n"
   ]
  },
  {
   "cell_type": "markdown",
   "id": "fecba5c3",
   "metadata": {},
   "source": [
    "Run HRP foro datePP and dateTR"
   ]
  },
  {
   "cell_type": "code",
   "execution_count": null,
   "id": "5ce48431",
   "metadata": {},
   "outputs": [],
   "source": [
    "# excluded = ['SOFR', 'XCMP', 'SPXT', 'VIX']\n",
    "excluded = []\n",
    "df_filtered = window_pp.drop(columns=excluded)\n",
    "\n",
    "hrp = build_hrp(df_filtered, clean_cov_matrix=True)\n",
    "print(hrp)"
   ]
  },
  {
   "cell_type": "code",
   "execution_count": null,
   "id": "01af6ac0",
   "metadata": {},
   "outputs": [],
   "source": [
    "df_filtered = window_tr.drop(columns=excluded)\n",
    "\n",
    "hrp = build_hrp(df_filtered, clean_cov_matrix=True)\n",
    "print(hrp)"
   ]
  }
 ],
 "metadata": {
  "kernelspec": {
   "display_name": "rpz_venv",
   "language": "python",
   "name": "rpz_venv"
  },
  "language_info": {
   "codemirror_mode": {
    "name": "ipython",
    "version": 3
   },
   "file_extension": ".py",
   "mimetype": "text/x-python",
   "name": "python",
   "nbconvert_exporter": "python",
   "pygments_lexer": "ipython3",
   "version": "3.10.5"
  }
 },
 "nbformat": 4,
 "nbformat_minor": 5
}
